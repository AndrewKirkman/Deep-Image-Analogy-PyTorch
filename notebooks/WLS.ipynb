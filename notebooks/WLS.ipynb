{
 "cells": [
  {
   "cell_type": "code",
   "execution_count": null,
   "metadata": {},
   "outputs": [],
   "source": [
    "%pylab inline\n",
    "pylab.rcParams['figure.figsize'] = (10, 150)\n",
    "\n",
    "\n",
    "import cv2\n",
    "import numpy as np\n",
    "from scipy.sparse import spdiags\n",
    "from scipy.sparse.linalg import spsolve"
   ]
  },
  {
   "cell_type": "code",
   "execution_count": null,
   "metadata": {},
   "outputs": [],
   "source": [
    "img = cv2.imread('/tmp/mona.png').astype(np.float32)\n",
    "# img = cv2.cvtColor(img, cv2.COLOR_BGR2GRAY)\n",
    "img = cv2.resize(img,dsize=(200,200))\n",
    "img = img/img.max()\n",
    "\n",
    "\n",
    "L = cv2.imread('../data/raw/mona.png').astype(np.float32)\n",
    "# L = cv2.cvtColor(L, cv2.COLOR_BGR2GRAY)\n",
    "L = cv2.resize(L,dsize=(200,200))\n",
    "L = L/L.max()"
   ]
  },
  {
   "cell_type": "code",
   "execution_count": null,
   "metadata": {},
   "outputs": [],
   "source": [
    "def wlsFilter(IN,lamb=1, alpha=1.2, L=None):\n",
    "    output = np.zeros_like(IN)\n",
    "   \n",
    "\n",
    "    def wlsFilter_helper(IN, lamb=1, alpha=1.2, L=None): \n",
    "\n",
    "        smallNum = 0.0001\n",
    "\n",
    "        r,c = IN.shape\n",
    "        k = r*c\n",
    "\n",
    "        dy = np.diff(L,1,0)\n",
    "\n",
    "        dy = -lamb/(np.abs(dy)**alpha + smallNum)\n",
    "        dy = np.pad(dy, ((0 ,1),(0,0)),mode='constant')\n",
    "        dy = dy.flatten()\n",
    "\n",
    "        dx = np.diff(L, 1, 1); \n",
    "        dx = -lamb/(np.abs(dx)**alpha + smallNum);\n",
    "        dx = np.pad(dx, ((0 ,0),(0,1)),mode='constant')\n",
    "        dx = dx.flatten()\n",
    "\n",
    "        B = np.zeros(shape=(dx.shape[0],2))\n",
    "        B[:,0] = dx\n",
    "        B[:,1] = dy;\n",
    "        d = np.array([-r,-1])\n",
    "\n",
    "        A = spdiags(B.T,d,k,k)\n",
    "\n",
    "        e = dx\n",
    "        w = np.pad(dx, ((r,0)) ,mode= 'constant')\n",
    "        w = w[0:-r]\n",
    "\n",
    "        s = dy\n",
    "        n = np.pad(dy, ((1,0)), mode= 'constant')\n",
    "        n = n[0:-1]\n",
    "\n",
    "        D = 1-(e+w+s+n)\n",
    "        A = A + A.T + spdiags(D.T, 0, k, k)\n",
    "        OUT = spsolve(A,IN.flatten())\n",
    "\n",
    "        OUT = np.reshape(OUT, (r, c))\n",
    "\n",
    "        return OUT\n",
    "    output[:,:,0] = wlsFilter_helper(img[:,:,0],lamb=lamb,alpha=alpha,L=L[:,:,0])\n",
    "    output[:,:,1] = wlsFilter_helper(img[:,:,1],lamb=lamb,alpha=alpha,L=L[:,:,1])\n",
    "    output[:,:,2] = wlsFilter_helper(img[:,:,2],lamb=lamb,alpha=alpha,L=L[:,:,2])\n",
    "    return output\n",
    "    "
   ]
  },
  {
   "cell_type": "code",
   "execution_count": null,
   "metadata": {},
   "outputs": [],
   "source": [
    "final  = wlsFilter(img,L=L,alpha=.4,lamb=.1)[:,:,::-1] #+ img[:,:,::-1]- wlsFilter(L,L=L,lamb=1.,alpha=.3)[:,:,::-1]\n",
    "final = np.clip(final,0,1)\n",
    "plt.imshow(final)"
   ]
  },
  {
   "cell_type": "code",
   "execution_count": null,
   "metadata": {},
   "outputs": [],
   "source": [
    "plt.subplot(1,2,1)\n",
    "plt.axis(\"off\")\n",
    "plt.imshow(final)\n",
    "\n",
    "plt.subplot(1,2,2)\n",
    "plt.axis(\"off\")\n",
    "plt.imshow(img[:,:,::-1])\n",
    "plt.show()"
   ]
  },
  {
   "cell_type": "code",
   "execution_count": null,
   "metadata": {},
   "outputs": [],
   "source": []
  },
  {
   "cell_type": "code",
   "execution_count": null,
   "metadata": {},
   "outputs": [],
   "source": []
  }
 ],
 "metadata": {
  "kernelspec": {
   "display_name": "Python 3",
   "language": "python",
   "name": "python3"
  },
  "language_info": {
   "codemirror_mode": {
    "name": "ipython",
    "version": 3
   },
   "file_extension": ".py",
   "mimetype": "text/x-python",
   "name": "python",
   "nbconvert_exporter": "python",
   "pygments_lexer": "ipython3",
   "version": "3.6.3"
  }
 },
 "nbformat": 4,
 "nbformat_minor": 2
}
