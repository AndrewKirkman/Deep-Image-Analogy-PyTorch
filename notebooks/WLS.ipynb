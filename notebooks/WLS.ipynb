{
 "cells": [
  {
   "cell_type": "code",
   "execution_count": null,
   "metadata": {},
   "outputs": [],
   "source": [
    "%pylab inline\n",
    "pylab.rcParams['figure.figsize'] = (10, 150)\n",
    "\n",
    "\n",
    "import cv2\n",
    "import numpy as np\n",
    "from scipy.sparse import spdiags\n",
    "from scipy.sparse.linalg import spsolve"
   ]
  },
  {
   "cell_type": "code",
   "execution_count": null,
   "metadata": {},
   "outputs": [],
   "source": [
    "img = cv2.imread('/tmp/avaout.png').astype(np.float32)\n",
    "# img = cv2.cvtColor(img, cv2.COLOR_BGR2GRAY)\n",
    "img = cv2.resize(img,dsize=(500,500))\n",
    "img = img/img.max()\n",
    "\n",
    "\n",
    "L = cv2.imread('../data/external/ava.jpg').astype(np.float32)\n",
    "# L = cv2.cvtColor(L, cv2.COLOR_BGR2GRAY)\n",
    "L = cv2.resize(L,dsize=(500,500))\n",
    "L = L/L.max()"
   ]
  },
  {
   "cell_type": "code",
   "execution_count": null,
   "metadata": {},
   "outputs": [],
   "source": [
    "def wlsFilter(IN, lamb=1, alpha=1.2, L=None): \n",
    "#     L = np.log(IN+np.spacing(1))\n",
    "    \n",
    "    smallNum = 0.0001\n",
    "    \n",
    "    r,c = IN.shape\n",
    "    k = r*c\n",
    "    \n",
    "    dy = np.diff(L,1,0)\n",
    "\n",
    "    dy = -lamb/(np.abs(dy)**alpha + smallNum)\n",
    "    dy = np.pad(dy, ((0 ,1),(0,0)),mode='constant')\n",
    "    dy = dy.flatten()\n",
    "    \n",
    "    dx = np.diff(L, 1, 1); \n",
    "    dx = -lamb/(np.abs(dx)**alpha + smallNum);\n",
    "    dx = np.pad(dx, ((0 ,0),(0,1)),mode='constant')\n",
    "    dx = dx.flatten()\n",
    "    \n",
    "    print(dx.shape[0])\n",
    "    print(dy.shape[0])\n",
    "\n",
    "    B = np.zeros(shape=(dx.shape[0],2))\n",
    "    B[:,0] = dx\n",
    "    B[:,1] = dy;\n",
    "    print(B.shape)\n",
    "    d = np.array([-r,-1])\n",
    "\n",
    "    A = spdiags(B.T,d,k,k)\n",
    "    \n",
    "    e = dx\n",
    "    w = np.pad(dx, ((r,0)) ,mode= 'constant')\n",
    "    w = w[0:-r]\n",
    "    \n",
    "    s = dy\n",
    "    n = np.pad(dy, ((1,0)), mode= 'constant')\n",
    "    n = n[0:-1]\n",
    "    \n",
    "    D = 1-(e+w+s+n)\n",
    "    A = A + A.T + spdiags(D.T, 0, k, k)\n",
    "#     print(type(A))\n",
    "    OUT = spsolve(A,IN.flatten())\n",
    "#     print(r)\n",
    "#     print(c)\n",
    "    OUT = np.reshape(OUT, (r, c))\n",
    "    \n",
    "    return OUT\n",
    "    "
   ]
  },
  {
   "cell_type": "code",
   "execution_count": null,
   "metadata": {},
   "outputs": [],
   "source": [
    "# output = wlsFilter(img,lamb=1.2,alpha=.8,L=L)"
   ]
  },
  {
   "cell_type": "code",
   "execution_count": null,
   "metadata": {},
   "outputs": [],
   "source": [
    "output = np.zeros_like(img)\n",
    "lamb = .8\n",
    "alpha = .9\n",
    "\n",
    "output[:,:,0] = wlsFilter(img[:,:,0],lamb=lamb,alpha=alpha,L=L[:,:,0])\n",
    "output[:,:,1] = wlsFilter(img[:,:,1],lamb=lamb,alpha=alpha,L=L[:,:,1])\n",
    "output[:,:,2] = wlsFilter(img[:,:,2],lamb=lamb,alpha=alpha,L=L[:,:,2])"
   ]
  },
  {
   "cell_type": "code",
   "execution_count": null,
   "metadata": {},
   "outputs": [],
   "source": [
    "output2 = np.zeros_like(img)\n",
    "lamb = 2.2\n",
    "alpha = 1.2 \n",
    "\n",
    "output2[:,:,0] = wlsFilter(img[:,:,0],lamb=lamb,alpha=alpha,L=output2[:,:,0])\n",
    "output2[:,:,1] = wlsFilter(img[:,:,1],lamb=lamb,alpha=alpha,L=output2[:,:,1])\n",
    "output2[:,:,2] = wlsFilter(img[:,:,2],lamb=lamb,alpha=alpha,L=output2[:,:,2])"
   ]
  },
  {
   "cell_type": "code",
   "execution_count": null,
   "metadata": {},
   "outputs": [],
   "source": [
    "plt.imshow(np.clip(output + img - output2,0,1)[:,:,::-1])"
   ]
  },
  {
   "cell_type": "code",
   "execution_count": null,
   "metadata": {},
   "outputs": [],
   "source": [
    "# output = output.astype(np.int)\n",
    "plt.imshow(output[:,:,::-1])"
   ]
  },
  {
   "cell_type": "code",
   "execution_count": null,
   "metadata": {},
   "outputs": [],
   "source": [
    "plt.axis('off')\n",
    "plt.imshow(img[:,:,::-1],cmap='gray')\n",
    "plt.show()\n",
    "kernel = np.array([[-1,-1,-1], [-1,9,-1], [-1,-1,-1]])\n",
    "\n",
    "im = cv2.filter2D(output, -1, kernel)\n",
    "im = np.clip(im,0,1)\n",
    "plt.axis('off')\n",
    "plt.imshow(im[:,:,::-1],cmap='gray')\n",
    "\n"
   ]
  },
  {
   "cell_type": "code",
   "execution_count": null,
   "metadata": {},
   "outputs": [],
   "source": []
  },
  {
   "cell_type": "code",
   "execution_count": null,
   "metadata": {},
   "outputs": [],
   "source": []
  },
  {
   "cell_type": "code",
   "execution_count": null,
   "metadata": {},
   "outputs": [],
   "source": []
  }
 ],
 "metadata": {
  "kernelspec": {
   "display_name": "Python 3",
   "language": "python",
   "name": "python3"
  },
  "language_info": {
   "codemirror_mode": {
    "name": "ipython",
    "version": 3
   },
   "file_extension": ".py",
   "mimetype": "text/x-python",
   "name": "python",
   "nbconvert_exporter": "python",
   "pygments_lexer": "ipython3",
   "version": "3.6.3"
  }
 },
 "nbformat": 4,
 "nbformat_minor": 2
}
