{
 "cells": [
  {
   "cell_type": "code",
   "execution_count": 91,
   "metadata": {},
   "outputs": [],
   "source": [
    "import numpy as np\n",
    "from sklearn.feature_extraction.image import extract_patches_2d\n",
    "from skimage.util.shape import view_as_blocks\n",
    "from skimage.util import view_as_windows\n",
    "from numpy.lib import stride_tricks\n",
    "import cv2\n",
    "\n",
    "np.set_printoptions(precision=3)\n",
    "\n",
    "class PatchMatch(object):\n",
    "    def __init__(self, a, b, patch_size):\n",
    "        assert a.shape == b.shape, \"Dimensions were unequal for patch-matching input\"\n",
    "        \n",
    "        self.orig_shape = a.shape\n",
    "        self.patch_size = patch_size\n",
    "        self.offset_from_edge = self.patch_size // 2\n",
    "        offset_from_edge = self.offset_from_edge\n",
    "        self.a = a\n",
    "        self.b = b\n",
    "        self.nnf = np.ndarray(shape=(2, a.shape[1], a.shape[2]),dtype=np.int32)\n",
    "        self.nnd = np.ndarray(shape=(a.shape[1], a.shape[2]))\n",
    "\n",
    "        print(self.a.shape)\n",
    "        print(self.b.shape)\n",
    "       \n",
    "    \n",
    "        for i in range(0, a.shape[1] ): #loop  through y\n",
    "            for j in range(0, a.shape[2]): # loop through x\n",
    "                self.nnf[0][i][j] = int(np.random.randint(0,a.shape[2]))\n",
    "                self.nnf[1][i][j] = int(np.random.randint(0,a.shape[1]))\n",
    "                self.nnd[i][j] = self.calculate_distance(j,i,self.nnf[0][i][j],self.nnf[1][i][j])\n",
    "                \n",
    "    def clean_coords(self,x,y):\n",
    "        assert x >= self.offset_from_edge and x < self.orig_shape[2] , \"X coordinate off\"\n",
    "        assert y >= self.offset_from_edge and y < self.orig_shape[1] , \"Y coordinate off\"\n",
    "        \n",
    "        \n",
    "    def calculate_distance(self,ax,ay,bx,by):\n",
    "\n",
    "        patch_a = self.get_patch_for_coords(self.a,ax,ay)\n",
    "        patch_b = self.get_patch_for_coords(self.b,bx,by)\n",
    "        assert patch_a.shape == patch_b.shape, \" ax {}  ay {}  bx {}  by {}\".format(ax,ay,bx,by)\n",
    "\n",
    "\n",
    "        diff = patch_a - patch_b\n",
    "        distances = np.linalg.norm(diff,axis=0)\n",
    "#         print(\"DISTANCE {}\".format(distances.size))\n",
    "        average = np.sum(distances)/(distances.size)\n",
    "        return average\n",
    "        \n",
    "        \n",
    "    \n",
    "    def get_patch_for_coords(self, arr, x, y):\n",
    "        \"\"\"\n",
    "        Get a patch of at max patch_size X patch_size.\n",
    "        x and y denotes the center of the patch\n",
    "\n",
    "        :arr: an array of dimensions C * H * W \n",
    "        :return:\n",
    "        \"\"\"\n",
    "        x,y = self.clip_coords(x,y)\n",
    "\n",
    "        return arr[ : , y : y+self.offset_from_edge, x:x+self.offset_from_edge]\n",
    "    \n",
    "    def propagate(self):\n",
    "        old_nnd = self.nnd.copy()\n",
    "        print(self.nnd)\n",
    "        print(\"-\"*10)\n",
    "        for i in range(1,self.orig_shape[1]): # loop through ys\n",
    "            for j in range(1,self.orig_shape[2]):# loop through xs\n",
    "                current_pos_distance = self.nnd[i][j] \n",
    "                \n",
    "                horiz_x = j - 1\n",
    "                horiz_y = i\n",
    "                horiz_dist = self.calculate_distance(j,i,self.nnf[0][horiz_y][horiz_x],self.nnf[1][horiz_y][horiz_x])\n",
    "                \n",
    "                vert_x = j \n",
    "                vert_y = i - 1  \n",
    "                vert_dist = self.calculate_distance(j,i,self.nnf[0][vert_y][vert_x],self.nnf[1][vert_y][vert_x])\n",
    "\n",
    "                best_dist = min(current_pos_distance,horiz_dist,vert_dist)\n",
    "                \n",
    "                if best_dist == current_pos_distance:\n",
    "                    best_x = j\n",
    "                    best_y = i\n",
    "                elif best_dist == horiz_dist:\n",
    "                    best_x = horiz_x\n",
    "                    best_y = horiz_y\n",
    "                elif best_dist == vert_dist:\n",
    "                    best_x = vert_x\n",
    "                    best_y = vert_y\n",
    "                    \n",
    "                rand_d = min(self.a.shape[1]//2, self.a.shape[2]//2)\n",
    "                \n",
    "                while rand_d > 0:\n",
    "                        xmin = max(best_x - rand_d, 0)\n",
    "                        xmax = min(best_x + rand_d, self.b.shape[2])\n",
    "                        ymin = max(best_y - rand_d, 0)\n",
    "                        ymax = min(best_y + rand_d, self.b.shape[1])\n",
    "\n",
    "                        rand_x = np.random.randint(xmin, xmax)\n",
    "                        rand_y = np.random.randint(ymin, ymax)\n",
    "                        val = self.calculate_distance(j,i, rand_x, rand_y)\n",
    "                        if val < best_dist:\n",
    "                            best_x, best_y, best_dist = rand_x, rand_y, val\n",
    "                        rand_d = rand_d // 2    \n",
    "              \n",
    "                self.nnf[0][i][j] = best_x \n",
    "                self.nnf[1][i][j] = best_y\n",
    "                self.nnd[i][j] = best_dist\n",
    "        print(self.nnd)\n",
    "        print(\"_\"*10)\n",
    "        print(old_nnd-self.nnd)\n",
    "            \n",
    "    \n",
    "    def get_loss_value(self):\n",
    "        return np.sum(self.nnd)\n",
    "    def clip_coords(self,x,y):\n",
    "        return max(x,0) , max(y,0)\n",
    "        \n",
    "    def back_propagate(self):\n",
    "            old_nnd = self.nnd.copy()\n",
    "            print(self.nnd)\n",
    "            print(\"-\"*10)\n",
    "            for i in range(self.orig_shape[1]-2,0,-1): # loop through ys\n",
    "                for j in range(self.orig_shape[2]-2,0,-1):# loop through xs\n",
    "                    current_pos_distance = self.nnd[i][j] \n",
    "\n",
    "                    horiz_x = j + 1\n",
    "                    horiz_y = i\n",
    "                    horiz_dist = self.calculate_distance(j,i,self.nnf[0][horiz_y][horiz_x],self.nnf[1][horiz_y][horiz_x])\n",
    "\n",
    "                    vert_x = j \n",
    "                    vert_y = i + 1  \n",
    "                    vert_dist = self.calculate_distance(j,i,self.nnf[0][vert_y][vert_x],self.nnf[1][vert_y][vert_x])\n",
    "\n",
    "                    best_dist = min(current_pos_distance,horiz_dist,vert_dist)\n",
    "\n",
    "                    if best_dist == current_pos_distance:\n",
    "                        best_x = j\n",
    "                        best_y = i\n",
    "                    elif best_dist == horiz_dist:\n",
    "                        best_x = horiz_x\n",
    "                        best_y = horiz_y\n",
    "                    elif best_dist == vert_dist:\n",
    "                        best_x = vert_x\n",
    "                        best_y = vert_y\n",
    "\n",
    "                    rand_d = min(self.a.shape[1]//2, self.a.shape[2]//2)\n",
    "\n",
    "                    while rand_d > 0:\n",
    "                            xmin = max(best_x - rand_d, 0)\n",
    "                            xmax = min(best_x + rand_d, self.b.shape[2])\n",
    "                            ymin = max(best_y - rand_d, 0)\n",
    "                            ymax = min(best_y + rand_d, self.b.shape[1])\n",
    "\n",
    "                            rand_x = np.random.randint(xmin, xmax)\n",
    "                            rand_y = np.random.randint(ymin, ymax)\n",
    "                            val = self.calculate_distance(j,i, rand_x, rand_y)\n",
    "                            if val < best_dist:\n",
    "                                best_x, best_y, best_dist = rand_x, rand_y, val\n",
    "                            rand_d = rand_d // 2    \n",
    "\n",
    "                    self.nnf[0][i][j] = best_x \n",
    "                    self.nnf[1][i][j] = best_y\n",
    "                    self.nnd[i][j] = best_dist\n",
    "            print(self.nnd)\n",
    "            print(\"_\"*10)\n",
    "            print(old_nnd-self.nnd)\n",
    "\n"
   ]
  },
  {
   "cell_type": "code",
   "execution_count": 92,
   "metadata": {
    "scrolled": true
   },
   "outputs": [
    {
     "name": "stdout",
     "output_type": "stream",
     "text": [
      "(3, 275, 183)\n",
      "-\n",
      "(3, 275, 183)\n",
      "(3, 275, 183)\n"
     ]
    },
    {
     "ename": "AssertionError",
     "evalue": " ax 22  ay 0  bx 182  by 92",
     "output_type": "error",
     "traceback": [
      "\u001b[0;31m---------------------------------------------------------------------------\u001b[0m",
      "\u001b[0;31mAssertionError\u001b[0m                            Traceback (most recent call last)",
      "\u001b[0;32m<ipython-input-92-8bab321cea70>\u001b[0m in \u001b[0;36m<module>\u001b[0;34m()\u001b[0m\n\u001b[1;32m     14\u001b[0m \u001b[0;31m# print(test_a.shape)\u001b[0m\u001b[0;34m\u001b[0m\u001b[0;34m\u001b[0m\u001b[0m\n\u001b[1;32m     15\u001b[0m \u001b[0;34m\u001b[0m\u001b[0m\n\u001b[0;32m---> 16\u001b[0;31m \u001b[0mpm\u001b[0m \u001b[0;34m=\u001b[0m \u001b[0mPatchMatch\u001b[0m\u001b[0;34m(\u001b[0m\u001b[0mx\u001b[0m\u001b[0;34m,\u001b[0m\u001b[0my\u001b[0m\u001b[0;34m,\u001b[0m\u001b[0;36m7\u001b[0m\u001b[0;34m)\u001b[0m\u001b[0;34m\u001b[0m\u001b[0m\n\u001b[0m\u001b[1;32m     17\u001b[0m \u001b[0mpm\u001b[0m\u001b[0;34m.\u001b[0m\u001b[0mpropagate\u001b[0m\u001b[0;34m(\u001b[0m\u001b[0;34m)\u001b[0m\u001b[0;34m\u001b[0m\u001b[0m\n\u001b[1;32m     18\u001b[0m \u001b[0;31m# pm.back_propagate()\u001b[0m\u001b[0;34m\u001b[0m\u001b[0;34m\u001b[0m\u001b[0m\n",
      "\u001b[0;32m<ipython-input-91-d49e0f5d9d05>\u001b[0m in \u001b[0;36m__init__\u001b[0;34m(self, a, b, patch_size)\u001b[0m\n\u001b[1;32m     29\u001b[0m                 \u001b[0mself\u001b[0m\u001b[0;34m.\u001b[0m\u001b[0mnnf\u001b[0m\u001b[0;34m[\u001b[0m\u001b[0;36m0\u001b[0m\u001b[0;34m]\u001b[0m\u001b[0;34m[\u001b[0m\u001b[0mi\u001b[0m\u001b[0;34m]\u001b[0m\u001b[0;34m[\u001b[0m\u001b[0mj\u001b[0m\u001b[0;34m]\u001b[0m \u001b[0;34m=\u001b[0m \u001b[0mint\u001b[0m\u001b[0;34m(\u001b[0m\u001b[0mnp\u001b[0m\u001b[0;34m.\u001b[0m\u001b[0mrandom\u001b[0m\u001b[0;34m.\u001b[0m\u001b[0mrandint\u001b[0m\u001b[0;34m(\u001b[0m\u001b[0;36m0\u001b[0m\u001b[0;34m,\u001b[0m\u001b[0ma\u001b[0m\u001b[0;34m.\u001b[0m\u001b[0mshape\u001b[0m\u001b[0;34m[\u001b[0m\u001b[0;36m2\u001b[0m\u001b[0;34m]\u001b[0m\u001b[0;34m)\u001b[0m\u001b[0;34m)\u001b[0m\u001b[0;34m\u001b[0m\u001b[0m\n\u001b[1;32m     30\u001b[0m                 \u001b[0mself\u001b[0m\u001b[0;34m.\u001b[0m\u001b[0mnnf\u001b[0m\u001b[0;34m[\u001b[0m\u001b[0;36m1\u001b[0m\u001b[0;34m]\u001b[0m\u001b[0;34m[\u001b[0m\u001b[0mi\u001b[0m\u001b[0;34m]\u001b[0m\u001b[0;34m[\u001b[0m\u001b[0mj\u001b[0m\u001b[0;34m]\u001b[0m \u001b[0;34m=\u001b[0m \u001b[0mint\u001b[0m\u001b[0;34m(\u001b[0m\u001b[0mnp\u001b[0m\u001b[0;34m.\u001b[0m\u001b[0mrandom\u001b[0m\u001b[0;34m.\u001b[0m\u001b[0mrandint\u001b[0m\u001b[0;34m(\u001b[0m\u001b[0;36m0\u001b[0m\u001b[0;34m,\u001b[0m\u001b[0ma\u001b[0m\u001b[0;34m.\u001b[0m\u001b[0mshape\u001b[0m\u001b[0;34m[\u001b[0m\u001b[0;36m1\u001b[0m\u001b[0;34m]\u001b[0m\u001b[0;34m)\u001b[0m\u001b[0;34m)\u001b[0m\u001b[0;34m\u001b[0m\u001b[0m\n\u001b[0;32m---> 31\u001b[0;31m                 \u001b[0mself\u001b[0m\u001b[0;34m.\u001b[0m\u001b[0mnnd\u001b[0m\u001b[0;34m[\u001b[0m\u001b[0mi\u001b[0m\u001b[0;34m]\u001b[0m\u001b[0;34m[\u001b[0m\u001b[0mj\u001b[0m\u001b[0;34m]\u001b[0m \u001b[0;34m=\u001b[0m \u001b[0mself\u001b[0m\u001b[0;34m.\u001b[0m\u001b[0mcalculate_distance\u001b[0m\u001b[0;34m(\u001b[0m\u001b[0mj\u001b[0m\u001b[0;34m,\u001b[0m\u001b[0mi\u001b[0m\u001b[0;34m,\u001b[0m\u001b[0mself\u001b[0m\u001b[0;34m.\u001b[0m\u001b[0mnnf\u001b[0m\u001b[0;34m[\u001b[0m\u001b[0;36m0\u001b[0m\u001b[0;34m]\u001b[0m\u001b[0;34m[\u001b[0m\u001b[0mi\u001b[0m\u001b[0;34m]\u001b[0m\u001b[0;34m[\u001b[0m\u001b[0mj\u001b[0m\u001b[0;34m]\u001b[0m\u001b[0;34m,\u001b[0m\u001b[0mself\u001b[0m\u001b[0;34m.\u001b[0m\u001b[0mnnf\u001b[0m\u001b[0;34m[\u001b[0m\u001b[0;36m1\u001b[0m\u001b[0;34m]\u001b[0m\u001b[0;34m[\u001b[0m\u001b[0mi\u001b[0m\u001b[0;34m]\u001b[0m\u001b[0;34m[\u001b[0m\u001b[0mj\u001b[0m\u001b[0;34m]\u001b[0m\u001b[0;34m)\u001b[0m\u001b[0;34m\u001b[0m\u001b[0m\n\u001b[0m\u001b[1;32m     32\u001b[0m \u001b[0;34m\u001b[0m\u001b[0m\n\u001b[1;32m     33\u001b[0m     \u001b[0;32mdef\u001b[0m \u001b[0mclean_coords\u001b[0m\u001b[0;34m(\u001b[0m\u001b[0mself\u001b[0m\u001b[0;34m,\u001b[0m\u001b[0mx\u001b[0m\u001b[0;34m,\u001b[0m\u001b[0my\u001b[0m\u001b[0;34m)\u001b[0m\u001b[0;34m:\u001b[0m\u001b[0;34m\u001b[0m\u001b[0m\n",
      "\u001b[0;32m<ipython-input-91-d49e0f5d9d05>\u001b[0m in \u001b[0;36mcalculate_distance\u001b[0;34m(self, ax, ay, bx, by)\u001b[0m\n\u001b[1;32m     40\u001b[0m         \u001b[0mpatch_a\u001b[0m \u001b[0;34m=\u001b[0m \u001b[0mself\u001b[0m\u001b[0;34m.\u001b[0m\u001b[0mget_patch_for_coords\u001b[0m\u001b[0;34m(\u001b[0m\u001b[0mself\u001b[0m\u001b[0;34m.\u001b[0m\u001b[0ma\u001b[0m\u001b[0;34m,\u001b[0m\u001b[0max\u001b[0m\u001b[0;34m,\u001b[0m\u001b[0may\u001b[0m\u001b[0;34m)\u001b[0m\u001b[0;34m\u001b[0m\u001b[0m\n\u001b[1;32m     41\u001b[0m         \u001b[0mpatch_b\u001b[0m \u001b[0;34m=\u001b[0m \u001b[0mself\u001b[0m\u001b[0;34m.\u001b[0m\u001b[0mget_patch_for_coords\u001b[0m\u001b[0;34m(\u001b[0m\u001b[0mself\u001b[0m\u001b[0;34m.\u001b[0m\u001b[0mb\u001b[0m\u001b[0;34m,\u001b[0m\u001b[0mbx\u001b[0m\u001b[0;34m,\u001b[0m\u001b[0mby\u001b[0m\u001b[0;34m)\u001b[0m\u001b[0;34m\u001b[0m\u001b[0m\n\u001b[0;32m---> 42\u001b[0;31m         \u001b[0;32massert\u001b[0m \u001b[0mpatch_a\u001b[0m\u001b[0;34m.\u001b[0m\u001b[0mshape\u001b[0m \u001b[0;34m==\u001b[0m \u001b[0mpatch_b\u001b[0m\u001b[0;34m.\u001b[0m\u001b[0mshape\u001b[0m\u001b[0;34m,\u001b[0m \u001b[0;34m\" ax {}  ay {}  bx {}  by {}\"\u001b[0m\u001b[0;34m.\u001b[0m\u001b[0mformat\u001b[0m\u001b[0;34m(\u001b[0m\u001b[0max\u001b[0m\u001b[0;34m,\u001b[0m\u001b[0may\u001b[0m\u001b[0;34m,\u001b[0m\u001b[0mbx\u001b[0m\u001b[0;34m,\u001b[0m\u001b[0mby\u001b[0m\u001b[0;34m)\u001b[0m\u001b[0;34m\u001b[0m\u001b[0m\n\u001b[0m\u001b[1;32m     43\u001b[0m \u001b[0;34m\u001b[0m\u001b[0m\n\u001b[1;32m     44\u001b[0m \u001b[0;34m\u001b[0m\u001b[0m\n",
      "\u001b[0;31mAssertionError\u001b[0m:  ax 22  ay 0  bx 182  by 92"
     ]
    }
   ],
   "source": [
    "%timeit\n",
    "# test_a = np.random.randint(low=0,high=10,size=(7,100, 100))\n",
    "# test_b = np.random.randint(low=0,high=10,size=(7,100, 100))\n",
    "\n",
    "x = cv2.imread(\"/Users/harshvardhangupta/Deep-Image-Analogy/notebooks/Unknown.jpeg\").transpose(2,1,0)\n",
    "y = cv2.imread(\"/Users/harshvardhangupta/Deep-Image-Analogy/notebooks/Unknown.jpeg\").transpose(2,1,0)\n",
    "# x = x[:,:7,:7]\n",
    "# y = y[:,:7,:7]\n",
    "\n",
    "\n",
    "print(x.shape)\n",
    "print(\"-\")\n",
    "# test_a = test_a.transpose((2,0,1))\n",
    "# print(test_a.shape)\n",
    "\n",
    "pm = PatchMatch(x,y,7)\n",
    "pm.propagate()\n",
    "# pm.back_propagate()\n",
    "# pm.propagate()\n",
    "# # pm.back_propagate()\n",
    "# pm.propagate()\n",
    "# # pm.get_loss_value()\n",
    "# pm.propagate()\n",
    "\n"
   ]
  },
  {
   "cell_type": "code",
   "execution_count": null,
   "metadata": {},
   "outputs": [],
   "source": [
    "pm.calculate_distance(3,9,247,77)"
   ]
  },
  {
   "cell_type": "code",
   "execution_count": null,
   "metadata": {
    "scrolled": true
   },
   "outputs": [],
   "source": [
    "pm.get_patch_for_coords(x,0,0)\n",
    "\n",
    "(3, 275, 183)\n"
   ]
  },
  {
   "cell_type": "code",
   "execution_count": null,
   "metadata": {},
   "outputs": [],
   "source": [
    "x[:,0:3,0:3]"
   ]
  },
  {
   "cell_type": "code",
   "execution_count": null,
   "metadata": {},
   "outputs": [],
   "source": [
    "pm.a[:,7+2,8+2]"
   ]
  },
  {
   "cell_type": "code",
   "execution_count": 46,
   "metadata": {},
   "outputs": [],
   "source": [
    "pm.nnf[:,0,0] = [2,2]"
   ]
  },
  {
   "cell_type": "code",
   "execution_count": 47,
   "metadata": {},
   "outputs": [
    {
     "data": {
      "text/plain": [
       "array([2, 2], dtype=int32)"
      ]
     },
     "execution_count": 47,
     "metadata": {},
     "output_type": "execute_result"
    }
   ],
   "source": [
    "pm.nnf[:,0,0]"
   ]
  },
  {
   "cell_type": "code",
   "execution_count": 82,
   "metadata": {},
   "outputs": [
    {
     "data": {
      "text/plain": [
       "array([[ 359.912,   85.726,  171.248, ...,  197.831,  405.288,  380.669],\n",
       "       [ 307.176,    0.   ,   66.053, ...,    0.   ,    0.   ,    0.   ],\n",
       "       [ 239.543,   20.785,   82.735, ...,    0.   ,    0.   ,    0.   ],\n",
       "       ..., \n",
       "       [  93.835,    0.   ,    0.   , ...,    0.   ,    0.   ,    0.   ],\n",
       "       [ 253.902,    0.   ,    0.   , ...,    0.   ,    0.   ,    0.   ],\n",
       "       [ 178.978,    0.   ,    0.   , ...,    0.   ,    0.   ,    0.   ]])"
      ]
     },
     "execution_count": 82,
     "metadata": {},
     "output_type": "execute_result"
    }
   ],
   "source": [
    "pm.nnd"
   ]
  },
  {
   "cell_type": "code",
   "execution_count": null,
   "metadata": {},
   "outputs": [],
   "source": []
  }
 ],
 "metadata": {
  "hide_input": false,
  "kernelspec": {
   "display_name": "Python 3",
   "language": "python",
   "name": "python3"
  }
 },
 "nbformat": 4,
 "nbformat_minor": 2
}
