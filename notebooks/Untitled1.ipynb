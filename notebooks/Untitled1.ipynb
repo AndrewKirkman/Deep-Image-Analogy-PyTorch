{
 "cells": [
  {
   "cell_type": "code",
   "execution_count": 184,
   "metadata": {},
   "outputs": [],
   "source": [
    "import numpy as np\n",
    "from sklearn.feature_extraction.image import extract_patches_2d\n",
    "from skimage.util.shape import view_as_blocks\n",
    "from skimage.util import view_as_windows\n",
    "from numpy.lib import stride_tricks\n",
    "import cv2\n",
    "\n",
    "np.set_printoptions(precision=3)\n",
    "\n",
    "class PatchMatch(object):\n",
    "    def __init__(self, a, b, patch_size):\n",
    "        assert a.shape == b.shape, \"Dimensions were unequal for patch-matching input\"\n",
    "        \n",
    "        self.orig_shape = a.shape\n",
    "        self.patch_size = patch_size\n",
    "        self.offset_from_edge = self.patch_size // 2\n",
    "        offset_from_edge = self.offset_from_edge\n",
    "        self.a = a\n",
    "        self.b = b\n",
    "        \n",
    "        self.a_padded = np.pad(a,pad_width=((0,0),(offset_from_edge,offset_from_edge),(offset_from_edge,offset_from_edge)),mode='constant')\n",
    "        \n",
    "        self.b_padded = np.pad(b,pad_width=((0,0),(offset_from_edge,offset_from_edge),(offset_from_edge,offset_from_edge)),mode='constant')\n",
    "        \n",
    "        \n",
    "        self.nnf = np.ndarray(shape=(2, a.shape[1], a.shape[2]),dtype=np.int32)\n",
    "        self.nnd = np.ndarray(shape=(a.shape[1], a.shape[2]))\n",
    "\n",
    "        print(self.a.shape)\n",
    "        print(self.b.shape)\n",
    "        print(\"SHAPE OF PADDED a {}\".format(self.a_padded.shape))\n",
    "        print(\"SHAPE OF PADDED b {}\".format(self.b_padded.shape))\n",
    "\n",
    "\n",
    "    \n",
    "        for i in range(0, a.shape[1] ): #loop  through y\n",
    "            for j in range(0, a.shape[2]): # loop through x\n",
    "                self.nnf[0][i][j] = int(np.random.randint(0,a.shape[2]))\n",
    "                self.nnf[1][i][j] = int(np.random.randint(0,a.shape[1]))\n",
    "                self.nnd[i][j] = self.calculate_distance(j,i,self.nnf[0][i][j],self.nnf[1][i][j])\n",
    "                \n",
    "    def clean_coords(self,x,y):\n",
    "        assert x >= self.offset_from_edge and x < self.orig_shape[2] , \"X coordinate off\"\n",
    "        assert y >= self.offset_from_edge and y < self.orig_shape[1] , \"Y coordinate off\"\n",
    "        \n",
    "        \n",
    "    def calculate_distance(self,ax,ay,bx,by):\n",
    "\n",
    "        patch_a = self.get_patch_for_coords(self.a_padded,ax,ay)\n",
    "        patch_b = self.get_patch_for_coords(self.b_padded,bx,by)\n",
    "#         print(patch_a.shape)\n",
    "#         print(patch_b.shape)\n",
    "        assert patch_a.shape == patch_b.shape, \" ax {}  ay {}  bx {}  by {} a.shape = {}  b.shape={}\".format(ax,ay,bx,by,patch_a.shape,patch_b.shape)\n",
    "\n",
    "\n",
    "        diff = patch_a - patch_b\n",
    "        distances = np.linalg.norm(diff,axis=0)\n",
    "#         print(\"DISTANCE {}\".format(distances.size))\n",
    "        average = np.sum(distances)/(distances.size)\n",
    "        return average\n",
    "        \n",
    "        \n",
    "    \n",
    "    def get_patch_for_coords(self, arr, x, y):\n",
    "        \"\"\"\n",
    "        Get a patch of at max patch_size X patch_size.\n",
    "        x and y denotes the center of the patch\n",
    "\n",
    "        :arr: an array of dimensions C * H * W \n",
    "        :return:\n",
    "        \"\"\"\n",
    "#         x,y = self.clip_coords(x,y)\n",
    "        \n",
    "        return arr[:,y: y + self.patch_size,\n",
    "                     x : x+self.patch_size ]\n",
    "        \n",
    "\n",
    "        return arr[ : , y : y+self.offset_from_edge, x:x+self.offset_from_edge]\n",
    "    \n",
    "    def propagate(self):\n",
    "        old_nnd = self.nnd.copy()\n",
    "        print(self.nnd)\n",
    "        print(\"-\"*10)\n",
    "        for i in range(1,self.orig_shape[1]): # loop through ys\n",
    "            for j in range(1,self.orig_shape[2]):# loop through xs\n",
    "                current_pos_distance = self.nnd[i][j] \n",
    "                \n",
    "                horiz_x = j - 1\n",
    "                horiz_y = i\n",
    "                horiz_dist = self.calculate_distance(j,i,self.nnf[0][horiz_y][horiz_x],self.nnf[1][horiz_y][horiz_x])\n",
    "                \n",
    "                vert_x = j \n",
    "                vert_y = i - 1  \n",
    "                vert_dist = self.calculate_distance(j,i,self.nnf[0][vert_y][vert_x],self.nnf[1][vert_y][vert_x])\n",
    "\n",
    "                best_dist = min(current_pos_distance,horiz_dist,vert_dist)\n",
    "                \n",
    "                if best_dist == current_pos_distance:\n",
    "                    best_x = j\n",
    "                    best_y = i\n",
    "                elif best_dist == horiz_dist:\n",
    "                    best_x = horiz_x\n",
    "                    best_y = horiz_y\n",
    "                elif best_dist == vert_dist:\n",
    "                    best_x = vert_x\n",
    "                    best_y = vert_y\n",
    "                    \n",
    "                rand_d = min(self.a.shape[1]//2, self.a.shape[2]//2)\n",
    "                \n",
    "                while rand_d > 0:\n",
    "                        xmin = max(best_x - rand_d, 0)\n",
    "                        xmax = min(best_x + rand_d, self.b.shape[2])\n",
    "                        ymin = max(best_y - rand_d, 0)\n",
    "                        ymax = min(best_y + rand_d, self.b.shape[1])\n",
    "\n",
    "                        rand_x = np.random.randint(xmin, xmax)\n",
    "                        rand_y = np.random.randint(ymin, ymax)\n",
    "                        val = self.calculate_distance(j,i, rand_x, rand_y)\n",
    "                        if val < best_dist:\n",
    "                            best_x, best_y, best_dist = rand_x, rand_y, val\n",
    "                        rand_d = rand_d // 2    \n",
    "              \n",
    "                self.nnf[0][i][j] = best_x \n",
    "                self.nnf[1][i][j] = best_y\n",
    "                self.nnd[i][j] = best_dist\n",
    "        print(self.nnd)\n",
    "        print(\"_\"*10)\n",
    "        print(old_nnd-self.nnd)\n",
    "            \n",
    "    \n",
    "    def get_loss_value(self):\n",
    "        return np.sum(self.nnd)\n",
    "    def clip_coords(self,x,y):\n",
    "        return max(x,0) , max(y,0)\n",
    "        \n",
    "    def back_propagate(self):\n",
    "            old_nnd = self.nnd.copy()\n",
    "            print(self.nnd)\n",
    "            print(\"-\"*10)\n",
    "            for i in range(self.orig_shape[1]-2,0,-1): # loop through ys\n",
    "                for j in range(self.orig_shape[2]-2,0,-1):# loop through xs\n",
    "                    current_pos_distance = self.nnd[i][j] \n",
    "\n",
    "                    horiz_x = j + 1\n",
    "                    horiz_y = i\n",
    "                    horiz_dist = self.calculate_distance(j,i,self.nnf[0][horiz_y][horiz_x],self.nnf[1][horiz_y][horiz_x])\n",
    "\n",
    "                    vert_x = j \n",
    "                    vert_y = i + 1  \n",
    "                    vert_dist = self.calculate_distance(j,i,self.nnf[0][vert_y][vert_x],self.nnf[1][vert_y][vert_x])\n",
    "\n",
    "                    best_dist = min(current_pos_distance,horiz_dist,vert_dist)\n",
    "\n",
    "                    if best_dist == current_pos_distance:\n",
    "                        best_x = j\n",
    "                        best_y = i\n",
    "                    elif best_dist == horiz_dist:\n",
    "                        best_x = horiz_x\n",
    "                        best_y = horiz_y\n",
    "                    elif best_dist == vert_dist:\n",
    "                        best_x = vert_x\n",
    "                        best_y = vert_y\n",
    "\n",
    "                    rand_d = min(self.a.shape[1]//2, self.a.shape[2]//2)\n",
    "\n",
    "                    while rand_d > 0:\n",
    "                            xmin = max(best_x - rand_d, 0)\n",
    "                            xmax = min(best_x + rand_d, self.b.shape[2])\n",
    "                            ymin = max(best_y - rand_d, 0)\n",
    "                            ymax = min(best_y + rand_d, self.b.shape[1])\n",
    "\n",
    "                            rand_x = np.random.randint(xmin, xmax)\n",
    "                            rand_y = np.random.randint(ymin, ymax)\n",
    "                            val = self.calculate_distance(j,i, rand_x, rand_y)\n",
    "                            if val < best_dist:\n",
    "                                best_x, best_y, best_dist = rand_x, rand_y, val\n",
    "                            rand_d = rand_d // 2    \n",
    "\n",
    "                    self.nnf[0][i][j] = best_x \n",
    "                    self.nnf[1][i][j] = best_y\n",
    "                    self.nnd[i][j] = best_dist\n",
    "            print(self.nnd)\n",
    "            print(\"_\"*10)\n",
    "            print(old_nnd-self.nnd)\n",
    "\n"
   ]
  },
  {
   "cell_type": "code",
   "execution_count": 186,
   "metadata": {
    "scrolled": true
   },
   "outputs": [
    {
     "name": "stdout",
     "output_type": "stream",
     "text": [
      "(3, 275, 183)\n",
      "-\n",
      "(3, 275, 183)\n",
      "(3, 275, 183)\n",
      "SHAPE OF PADDED a (3, 277, 185)\n",
      "SHAPE OF PADDED b (3, 277, 185)\n",
      "[[ 226.76   176.395  188.743 ...,   85.677  396.375  376.824]\n",
      " [ 302.147  252.867  241.609 ...,  197.85   219.149  367.609]\n",
      " [ 243.694  245.037  252.998 ...,  143.317  263.557   60.978]\n",
      " ..., \n",
      " [ 307.152   93.115  353.186 ...,  285.514  107.466  356.265]\n",
      " [  61.661  373.501  330.607 ...,  237.239  359.293  344.766]\n",
      " [ 166.751  320.776  358.142 ...,  192.403  381.784   93.362]]\n",
      "----------\n",
      "[[  2.268e+02   1.764e+02   1.887e+02 ...,   8.568e+01   3.964e+02\n",
      "    3.768e+02]\n",
      " [  3.021e+02   1.847e+02   1.941e+02 ...,   0.000e+00   0.000e+00\n",
      "    0.000e+00]\n",
      " [  2.437e+02   0.000e+00   1.809e+02 ...,   0.000e+00   0.000e+00\n",
      "    0.000e+00]\n",
      " ..., \n",
      " [  3.072e+02   0.000e+00   3.333e-01 ...,   0.000e+00   0.000e+00\n",
      "    0.000e+00]\n",
      " [  6.166e+01   4.444e-01   4.444e-01 ...,   0.000e+00   0.000e+00\n",
      "    0.000e+00]\n",
      " [  1.668e+02   8.505e+00   8.505e+00 ...,   0.000e+00   0.000e+00\n",
      "    8.686e+01]]\n",
      "__________\n",
      "[[   0.       0.       0.    ...,    0.       0.       0.   ]\n",
      " [   0.      68.121   47.501 ...,  197.85   219.149  367.609]\n",
      " [   0.     245.037   72.137 ...,  143.317  263.557   60.978]\n",
      " ..., \n",
      " [   0.      93.115  352.853 ...,  285.514  107.466  356.265]\n",
      " [   0.     373.057  330.163 ...,  237.239  359.293  344.766]\n",
      " [   0.     312.271  349.638 ...,  192.403  381.784    6.503]]\n",
      "[[  2.268e+02   1.764e+02   1.887e+02 ...,   8.568e+01   3.964e+02\n",
      "    3.768e+02]\n",
      " [  3.021e+02   1.847e+02   1.941e+02 ...,   0.000e+00   0.000e+00\n",
      "    0.000e+00]\n",
      " [  2.437e+02   0.000e+00   1.809e+02 ...,   0.000e+00   0.000e+00\n",
      "    0.000e+00]\n",
      " ..., \n",
      " [  3.072e+02   0.000e+00   3.333e-01 ...,   0.000e+00   0.000e+00\n",
      "    0.000e+00]\n",
      " [  6.166e+01   4.444e-01   4.444e-01 ...,   0.000e+00   0.000e+00\n",
      "    0.000e+00]\n",
      " [  1.668e+02   8.505e+00   8.505e+00 ...,   0.000e+00   0.000e+00\n",
      "    8.686e+01]]\n",
      "----------\n",
      "[[  2.268e+02   1.764e+02   1.887e+02 ...,   8.568e+01   3.964e+02\n",
      "    3.768e+02]\n",
      " [  3.021e+02   1.151e+02   0.000e+00 ...,   0.000e+00   0.000e+00\n",
      "    0.000e+00]\n",
      " [  2.437e+02   0.000e+00   1.773e+02 ...,   0.000e+00   0.000e+00\n",
      "    0.000e+00]\n",
      " ..., \n",
      " [  3.072e+02   0.000e+00   3.333e-01 ...,   0.000e+00   0.000e+00\n",
      "    0.000e+00]\n",
      " [  6.166e+01   0.000e+00   0.000e+00 ...,   0.000e+00   0.000e+00\n",
      "    0.000e+00]\n",
      " [  1.668e+02   8.505e+00   8.505e+00 ...,   0.000e+00   0.000e+00\n",
      "    8.686e+01]]\n",
      "__________\n",
      "[[   0.       0.       0.    ...,    0.       0.       0.   ]\n",
      " [   0.      69.607  194.108 ...,    0.       0.       0.   ]\n",
      " [   0.       0.       3.532 ...,    0.       0.       0.   ]\n",
      " ..., \n",
      " [   0.       0.       0.    ...,    0.       0.       0.   ]\n",
      " [   0.       0.444    0.444 ...,    0.       0.       0.   ]\n",
      " [   0.       0.       0.    ...,    0.       0.       0.   ]]\n",
      "[[  2.268e+02   1.764e+02   1.887e+02 ...,   8.568e+01   3.964e+02\n",
      "    3.768e+02]\n",
      " [  3.021e+02   1.151e+02   0.000e+00 ...,   0.000e+00   0.000e+00\n",
      "    0.000e+00]\n",
      " [  2.437e+02   0.000e+00   1.773e+02 ...,   0.000e+00   0.000e+00\n",
      "    0.000e+00]\n",
      " ..., \n",
      " [  3.072e+02   0.000e+00   3.333e-01 ...,   0.000e+00   0.000e+00\n",
      "    0.000e+00]\n",
      " [  6.166e+01   0.000e+00   0.000e+00 ...,   0.000e+00   0.000e+00\n",
      "    0.000e+00]\n",
      " [  1.668e+02   8.505e+00   8.505e+00 ...,   0.000e+00   0.000e+00\n",
      "    8.686e+01]]\n",
      "----------\n",
      "[[  2.268e+02   1.764e+02   1.887e+02 ...,   8.568e+01   3.964e+02\n",
      "    3.768e+02]\n",
      " [  3.021e+02   1.151e+02   0.000e+00 ...,   0.000e+00   0.000e+00\n",
      "    0.000e+00]\n",
      " [  2.437e+02   0.000e+00   1.773e+02 ...,   0.000e+00   0.000e+00\n",
      "    0.000e+00]\n",
      " ..., \n",
      " [  3.072e+02   0.000e+00   3.333e-01 ...,   0.000e+00   0.000e+00\n",
      "    0.000e+00]\n",
      " [  6.166e+01   0.000e+00   0.000e+00 ...,   0.000e+00   0.000e+00\n",
      "    0.000e+00]\n",
      " [  1.668e+02   0.000e+00   0.000e+00 ...,   0.000e+00   0.000e+00\n",
      "    0.000e+00]]\n",
      "__________\n",
      "[[  0.      0.      0.    ...,   0.      0.      0.   ]\n",
      " [  0.      0.      0.    ...,   0.      0.      0.   ]\n",
      " [  0.      0.      0.    ...,   0.      0.      0.   ]\n",
      " ..., \n",
      " [  0.      0.      0.    ...,   0.      0.      0.   ]\n",
      " [  0.      0.      0.    ...,   0.      0.      0.   ]\n",
      " [  0.      8.505   8.505 ...,   0.      0.     86.859]]\n",
      "[[  2.268e+02   1.764e+02   1.887e+02 ...,   8.568e+01   3.964e+02\n",
      "    3.768e+02]\n",
      " [  3.021e+02   1.151e+02   0.000e+00 ...,   0.000e+00   0.000e+00\n",
      "    0.000e+00]\n",
      " [  2.437e+02   0.000e+00   1.773e+02 ...,   0.000e+00   0.000e+00\n",
      "    0.000e+00]\n",
      " ..., \n",
      " [  3.072e+02   0.000e+00   3.333e-01 ...,   0.000e+00   0.000e+00\n",
      "    0.000e+00]\n",
      " [  6.166e+01   0.000e+00   0.000e+00 ...,   0.000e+00   0.000e+00\n",
      "    0.000e+00]\n",
      " [  1.668e+02   0.000e+00   0.000e+00 ...,   0.000e+00   0.000e+00\n",
      "    0.000e+00]]\n",
      "----------\n",
      "[[ 226.76   176.395  188.743 ...,   85.677  396.375  376.824]\n",
      " [ 302.147  115.139    0.    ...,    0.       0.       0.   ]\n",
      " [ 243.694    0.     177.33  ...,    0.       0.       0.   ]\n",
      " ..., \n",
      " [ 307.152    0.       0.    ...,    0.       0.       0.   ]\n",
      " [  61.661    0.       0.    ...,    0.       0.       0.   ]\n",
      " [ 166.751    0.       0.    ...,    0.       0.       0.   ]]\n",
      "__________\n",
      "[[ 0.     0.     0.    ...,  0.     0.     0.   ]\n",
      " [ 0.     0.     0.    ...,  0.     0.     0.   ]\n",
      " [ 0.     0.     0.    ...,  0.     0.     0.   ]\n",
      " ..., \n",
      " [ 0.     0.     0.333 ...,  0.     0.     0.   ]\n",
      " [ 0.     0.     0.    ...,  0.     0.     0.   ]\n",
      " [ 0.     0.     0.    ...,  0.     0.     0.   ]]\n",
      "[[ 226.76   176.395  188.743 ...,   85.677  396.375  376.824]\n",
      " [ 302.147  115.139    0.    ...,    0.       0.       0.   ]\n",
      " [ 243.694    0.     177.33  ...,    0.       0.       0.   ]\n",
      " ..., \n",
      " [ 307.152    0.       0.    ...,    0.       0.       0.   ]\n",
      " [  61.661    0.       0.    ...,    0.       0.       0.   ]\n",
      " [ 166.751    0.       0.    ...,    0.       0.       0.   ]]\n",
      "----------\n",
      "[[ 226.76   176.395  188.743 ...,   85.677  396.375  376.824]\n",
      " [ 302.147  115.139    0.    ...,    0.       0.       0.   ]\n",
      " [ 243.694    0.     173.026 ...,    0.       0.       0.   ]\n",
      " ..., \n",
      " [ 307.152    0.       0.    ...,    0.       0.       0.   ]\n",
      " [  61.661    0.       0.    ...,    0.       0.       0.   ]\n",
      " [ 166.751    0.       0.    ...,    0.       0.       0.   ]]\n",
      "__________\n",
      "[[ 0.     0.     0.    ...,  0.     0.     0.   ]\n",
      " [ 0.     0.     0.    ...,  0.     0.     0.   ]\n",
      " [ 0.     0.     4.304 ...,  0.     0.     0.   ]\n",
      " ..., \n",
      " [ 0.     0.     0.    ...,  0.     0.     0.   ]\n",
      " [ 0.     0.     0.    ...,  0.     0.     0.   ]\n",
      " [ 0.     0.     0.    ...,  0.     0.     0.   ]]\n"
     ]
    }
   ],
   "source": [
    "# test_a = np.random.randint(low=0,high=10,size=(7,100, 100))\n",
    "# test_b = np.random.randint(low=0,high=10,size=(7,100, 100))\n",
    "\n",
    "x = cv2.imread(\"/Users/harshvardhangupta/Deep-Image-Analogy/notebooks/Unknown.jpeg\").transpose(2,1,0)\n",
    "y = cv2.imread(\"/Users/harshvardhangupta/Deep-Image-Analogy/notebooks/Unknown.jpeg\").transpose(2,1,0)\n",
    "# x = x[:,:7,:7]\n",
    "# y = y[:,:7,:7]\n",
    "\n",
    "\n",
    "print(x.shape)\n",
    "print(\"-\")\n",
    "# test_a = test_a.transpose((2,0,1))\n",
    "# print(test_a.shape)\n",
    "\n",
    "pm = PatchMatch(x,y,3)\n",
    "pm.propagate()\n",
    "pm.back_propagate()\n",
    "pm.propagate()\n",
    "# pm.back_propagate()\n",
    "pm.propagate()\n",
    "# pm.get_loss_value()\n",
    "pm.propagate()\n",
    "\n"
   ]
  },
  {
   "cell_type": "code",
   "execution_count": 174,
   "metadata": {},
   "outputs": [
    {
     "data": {
      "text/plain": [
       "321.29738051516563"
      ]
     },
     "execution_count": 174,
     "metadata": {},
     "output_type": "execute_result"
    }
   ],
   "source": [
    "pm.calculate_distance(0,0,123,12)"
   ]
  },
  {
   "cell_type": "code",
   "execution_count": null,
   "metadata": {
    "scrolled": true
   },
   "outputs": [],
   "source": [
    "pm.get_patch_for_coords(x,0,0)\n",
    "\n",
    "(3, 275, 183)\n"
   ]
  },
  {
   "cell_type": "code",
   "execution_count": null,
   "metadata": {},
   "outputs": [],
   "source": [
    "x[:,0:3,0:3]"
   ]
  },
  {
   "cell_type": "code",
   "execution_count": null,
   "metadata": {},
   "outputs": [],
   "source": [
    "pm.a[:,7+2,8+2]"
   ]
  },
  {
   "cell_type": "code",
   "execution_count": 46,
   "metadata": {},
   "outputs": [],
   "source": [
    "pm.nnf[:,0,0] = [2,2]"
   ]
  },
  {
   "cell_type": "code",
   "execution_count": 47,
   "metadata": {},
   "outputs": [
    {
     "data": {
      "text/plain": [
       "array([2, 2], dtype=int32)"
      ]
     },
     "execution_count": 47,
     "metadata": {},
     "output_type": "execute_result"
    }
   ],
   "source": [
    "pm.nnf[:,0,0]"
   ]
  },
  {
   "cell_type": "code",
   "execution_count": 97,
   "metadata": {},
   "outputs": [
    {
     "data": {
      "text/plain": [
       "array([[[  0, 197,  90,   5],\n",
       "        [  0, 190,  82,  39],\n",
       "        [ 63, 175,   0,  89],\n",
       "        [122, 163,   7, 121]],\n",
       "\n",
       "       [[ 19, 214,  89,   0],\n",
       "        [ 33, 207,  81,  30],\n",
       "        [ 96, 194,   0,  81],\n",
       "        [156, 182,   6, 113]],\n",
       "\n",
       "       [[ 28, 223,  99,   6],\n",
       "        [ 42, 216,  91,  40],\n",
       "        [105, 202,   7,  88],\n",
       "        [162, 190,  16, 120]]], dtype=uint8)"
      ]
     },
     "execution_count": 97,
     "metadata": {},
     "output_type": "execute_result"
    }
   ],
   "source": [
    "x = cv2.imread(\"/Users/harshvardhangupta/Deep-Image-Analogy/notebooks/Unknown.jpeg\").transpose(2,1,0)\n",
    "# x = x[:,:4,:4]\n",
    "# x"
   ]
  },
  {
   "cell_type": "code",
   "execution_count": 99,
   "metadata": {},
   "outputs": [
    {
     "data": {
      "text/plain": [
       "array([[[  0,   0,   0,   0,   0,   0],\n",
       "        [  0,   0, 197,  90,   5,   0],\n",
       "        [  0,   0, 190,  82,  39,   0],\n",
       "        [  0,  63, 175,   0,  89,   0],\n",
       "        [  0, 122, 163,   7, 121,   0],\n",
       "        [  0,   0,   0,   0,   0,   0]],\n",
       "\n",
       "       [[  0,   0,   0,   0,   0,   0],\n",
       "        [  0,  19, 214,  89,   0,   0],\n",
       "        [  0,  33, 207,  81,  30,   0],\n",
       "        [  0,  96, 194,   0,  81,   0],\n",
       "        [  0, 156, 182,   6, 113,   0],\n",
       "        [  0,   0,   0,   0,   0,   0]],\n",
       "\n",
       "       [[  0,   0,   0,   0,   0,   0],\n",
       "        [  0,  28, 223,  99,   6,   0],\n",
       "        [  0,  42, 216,  91,  40,   0],\n",
       "        [  0, 105, 202,   7,  88,   0],\n",
       "        [  0, 162, 190,  16, 120,   0],\n",
       "        [  0,   0,   0,   0,   0,   0]]], dtype=uint8)"
      ]
     },
     "execution_count": 99,
     "metadata": {},
     "output_type": "execute_result"
    }
   ],
   "source": [
    "np.pad(x,pad_width=((0,0),(1,1),(1,1)),mode='constant')"
   ]
  },
  {
   "cell_type": "code",
   "execution_count": 165,
   "metadata": {},
   "outputs": [
    {
     "data": {
      "text/plain": [
       "array([[[ 0, 32],\n",
       "        [ 4, 15]],\n",
       "\n",
       "       [[ 3, 35],\n",
       "        [ 6, 19]],\n",
       "\n",
       "       [[ 0, 26],\n",
       "        [ 0,  8]]], dtype=uint8)"
      ]
     },
     "execution_count": 165,
     "metadata": {},
     "output_type": "execute_result"
    }
   ],
   "source": [
    "pm.get_patch_for_coords(pm.a_padded,5,5)"
   ]
  },
  {
   "cell_type": "code",
   "execution_count": 144,
   "metadata": {},
   "outputs": [
    {
     "ename": "NameError",
     "evalue": "name 'self' is not defined",
     "output_type": "error",
     "traceback": [
      "\u001b[0;31m---------------------------------------------------------------------------\u001b[0m",
      "\u001b[0;31mNameError\u001b[0m                                 Traceback (most recent call last)",
      "\u001b[0;32m<ipython-input-144-d7a5f27554aa>\u001b[0m in \u001b[0;36m<module>\u001b[0;34m()\u001b[0m\n\u001b[0;32m----> 1\u001b[0;31m \u001b[0mx\u001b[0m\u001b[0;34m[\u001b[0m\u001b[0;34m:\u001b[0m\u001b[0;34m,\u001b[0m\u001b[0my\u001b[0m\u001b[0;34m+\u001b[0m\u001b[0mself\u001b[0m\u001b[0;34m.\u001b[0m\u001b[0moffset_from_edge\u001b[0m\u001b[0;34m:\u001b[0m \u001b[0my\u001b[0m \u001b[0;34m+\u001b[0m \u001b[0mself\u001b[0m\u001b[0;34m.\u001b[0m\u001b[0mpatch_size\u001b[0m \u001b[0;34m,\u001b[0m \u001b[0mx\u001b[0m\u001b[0;34m+\u001b[0m\u001b[0mself\u001b[0m\u001b[0;34m.\u001b[0m\u001b[0moffset_from_edge\u001b[0m \u001b[0;34m:\u001b[0m \u001b[0mx\u001b[0m\u001b[0;34m+\u001b[0m\u001b[0mself\u001b[0m\u001b[0;34m.\u001b[0m\u001b[0mpatch_size\u001b[0m\u001b[0;34m]\u001b[0m\u001b[0;34m\u001b[0m\u001b[0m\n\u001b[0m",
      "\u001b[0;31mNameError\u001b[0m: name 'self' is not defined"
     ]
    }
   ],
   "source": [
    "x[:,y+self.offset_from_edge: y + self.patch_size , x+self.offset_from_edge : x+self.patch_size]"
   ]
  },
  {
   "cell_type": "code",
   "execution_count": 126,
   "metadata": {},
   "outputs": [
    {
     "data": {
      "text/plain": [
       "array([[[92, 92, 92],\n",
       "        [94, 94, 94],\n",
       "        [95, 95, 95]],\n",
       "\n",
       "       [[54, 54, 54],\n",
       "        [56, 56, 56],\n",
       "        [57, 57, 57]],\n",
       "\n",
       "       [[36, 36, 36],\n",
       "        [38, 38, 38],\n",
       "        [39, 39, 39]]], dtype=uint8)"
      ]
     },
     "execution_count": 126,
     "metadata": {},
     "output_type": "execute_result"
    }
   ],
   "source": [
    "x[:,36+1 : 36 + 4 , 36+1 : 36+4]"
   ]
  },
  {
   "cell_type": "code",
   "execution_count": 127,
   "metadata": {},
   "outputs": [
    {
     "ename": "SyntaxError",
     "evalue": "invalid syntax (<ipython-input-127-18d286b8d8a4>, line 1)",
     "output_type": "error",
     "traceback": [
      "\u001b[0;36m  File \u001b[0;32m\"<ipython-input-127-18d286b8d8a4>\"\u001b[0;36m, line \u001b[0;32m1\u001b[0m\n\u001b[0;31m    ax 36  ay 0  bx 182  by 8\u001b[0m\n\u001b[0m        ^\u001b[0m\n\u001b[0;31mSyntaxError\u001b[0m\u001b[0;31m:\u001b[0m invalid syntax\n"
     ]
    }
   ],
   "source": [
    "ax 36  ay 0  bx 182  by 8"
   ]
  },
  {
   "cell_type": "code",
   "execution_count": 145,
   "metadata": {},
   "outputs": [
    {
     "data": {
      "text/plain": [
       "array([], shape=(3, 2, 0), dtype=uint8)"
      ]
     },
     "execution_count": 145,
     "metadata": {},
     "output_type": "execute_result"
    }
   ],
   "source": [
    "x[:,8+1:8+3,182+1:182+3]"
   ]
  },
  {
   "cell_type": "code",
   "execution_count": 146,
   "metadata": {},
   "outputs": [
    {
     "data": {
      "text/plain": [
       "(3, 275, 183)"
      ]
     },
     "execution_count": 146,
     "metadata": {},
     "output_type": "execute_result"
    }
   ],
   "source": [
    "x.shape"
   ]
  },
  {
   "cell_type": "code",
   "execution_count": 153,
   "metadata": {},
   "outputs": [],
   "source": [
    "padded_x = np.pad(x,pad_width=((0,0),(1,1),(1,1)),mode='constant')"
   ]
  },
  {
   "cell_type": "code",
   "execution_count": 142,
   "metadata": {},
   "outputs": [
    {
     "data": {
      "text/plain": [
       "(3, 275, 183)"
      ]
     },
     "execution_count": 142,
     "metadata": {},
     "output_type": "execute_result"
    }
   ],
   "source": [
    "x.shape"
   ]
  },
  {
   "cell_type": "code",
   "execution_count": 154,
   "metadata": {},
   "outputs": [
    {
     "data": {
      "text/plain": [
       "array([[[  0,   0,   0, ...,   0,   0,   0],\n",
       "        [  0,   0, 197, ...,  48,  48,   0],\n",
       "        [  0,   0, 190, ...,  48,  48,   0],\n",
       "        ..., \n",
       "        [  0, 231, 231, ...,  48,  48,   0],\n",
       "        [  0, 231, 231, ...,  48,  48,   0],\n",
       "        [  0,   0,   0, ...,   0,   0,   0]],\n",
       "\n",
       "       [[  0,   0,   0, ...,   0,   0,   0],\n",
       "        [  0,  19, 214, ...,  22,  22,   0],\n",
       "        [  0,  33, 207, ...,  22,  22,   0],\n",
       "        ..., \n",
       "        [  0, 251, 251, ...,  22,  22,   0],\n",
       "        [  0, 251, 251, ...,  22,  22,   0],\n",
       "        [  0,   0,   0, ...,   0,   0,   0]],\n",
       "\n",
       "       [[  0,   0,   0, ...,   0,   0,   0],\n",
       "        [  0,  28, 223, ...,  22,  22,   0],\n",
       "        [  0,  42, 216, ...,  22,  22,   0],\n",
       "        ..., \n",
       "        [  0, 255, 255, ...,  22,  22,   0],\n",
       "        [  0, 255, 255, ...,  22,  22,   0],\n",
       "        [  0,   0,   0, ...,   0,   0,   0]]], dtype=uint8)"
      ]
     },
     "execution_count": 154,
     "metadata": {},
     "output_type": "execute_result"
    }
   ],
   "source": [
    "padded_x"
   ]
  },
  {
   "cell_type": "code",
   "execution_count": 162,
   "metadata": {},
   "outputs": [
    {
     "data": {
      "text/plain": [
       "array([[[48, 48,  0],\n",
       "        [48, 48,  0],\n",
       "        [49, 49,  0]],\n",
       "\n",
       "       [[22, 22,  0],\n",
       "        [22, 22,  0],\n",
       "        [23, 23,  0]],\n",
       "\n",
       "       [[22, 22,  0],\n",
       "        [22, 22,  0],\n",
       "        [23, 23,  0]]], dtype=uint8)"
      ]
     },
     "execution_count": 162,
     "metadata": {},
     "output_type": "execute_result"
    }
   ],
   "source": [
    "padded_x[:,8:8+4,182:182+3]"
   ]
  },
  {
   "cell_type": "code",
   "execution_count": null,
   "metadata": {},
   "outputs": [],
   "source": [
    "np.pad"
   ]
  }
 ],
 "metadata": {
  "hide_input": false,
  "kernelspec": {
   "display_name": "Python 3",
   "language": "python",
   "name": "python3"
  }
 },
 "nbformat": 4,
 "nbformat_minor": 2
}
