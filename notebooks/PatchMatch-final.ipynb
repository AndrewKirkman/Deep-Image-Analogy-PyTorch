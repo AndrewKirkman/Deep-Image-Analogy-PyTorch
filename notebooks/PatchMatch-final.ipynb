{
 "cells": [
  {
   "cell_type": "code",
   "execution_count": 6,
   "metadata": {},
   "outputs": [
    {
     "name": "stdout",
     "output_type": "stream",
     "text": [
      "Populating the interactive namespace from numpy and matplotlib\n"
     ]
    }
   ],
   "source": [
    "%matplotlib inline\n",
    "%pylab inline\n",
    "pylab.rcParams['figure.figsize'] = (10, 6)\n",
    "import numpy as np\n",
    "from numpy.lib import stride_tricks\n",
    "import cv2\n",
    "from matplotlib.colors import hsv_to_rgb\n",
    "import matplotlib.pyplot as plt\n",
    "import numpy as np\n",
    "np.set_printoptions(precision=3)"
   ]
  },
  {
   "cell_type": "code",
   "execution_count": 129,
   "metadata": {},
   "outputs": [],
   "source": [
    "class PatchMatch(object):\n",
    "    def __init__(self, a, b, patch_size):\n",
    "        assert a.shape == b.shape, \"Dimensions were unequal for patch-matching input\"\n",
    "        self.A = a\n",
    "        self.B = b\n",
    "        self.patch_size = patch_size\n",
    "        self.nnf = np.zeros(shape=(2, self.A.shape[0], self.A.shape[1])).astype(np.int)\n",
    "        self.nnd = np.zeros(shape=(self.A.shape[0], self.A.shape[1]))\n",
    "        self.initialise_nnf()\n",
    "    \n",
    "    def initialise_nnf(self):\n",
    "        self.nnf[0] = np.random.randint(self.B.shape[1], size=(self.A.shape[0], self.A.shape[1]))\n",
    "        self.nnf[1] = np.random.randint(self.B.shape[0], size=(self.A.shape[0], self.A.shape[1]))\n",
    "        self.nnf = self.nnf.transpose((1, 2 ,0))\n",
    "        for i in range(self.A.shape[0]):\n",
    "            for j in range(self.A.shape[1]):\n",
    "                pos = self.nnf[i,j]\n",
    "                self.nnd[i,j] = self.cal_dist(i, j, pos[1], pos[0])\n",
    "\n",
    "#     def cal_dist(self, ai ,aj, bi, bj):\n",
    "#         dx0 = dy0 = self.patch_size//2\n",
    "#         dx1 = dy1 = self.patch_size//2 + 1\n",
    "#         dx0 = min(ai, bi, dx0)\n",
    "#         dx1 = min(self.A.shape[0]-ai, self.B.shape[0]-bi, dx1)\n",
    "#         dy0 = min(aj, bj, dy0)\n",
    "#         dy1 = min(self.A.shape[1]-aj, self.B.shape[1]-bj, dy1)\n",
    "# #         if (dx1+dx0) * (dy1+dy0) == 0:\n",
    "# #             print(\"Zero\")\n",
    "#         return np.sum((self.A[ai-dx0:ai+dx1, aj-dy0:aj+dy1]-self.B[bi-dx0:bi+dx1, bj-dy0:bj+dy1])**2) / ((dx1+dx0) * (dy1+dy0))\n",
    "#   //l2 distance between two patches\n",
    "# float dist(int ***a, int ***b, int ax, int ay, int bx, int by,int a_rows, int a_cols, int b_rows, int b_cols, float cutoff = INT_MAX) {\n",
    "# \tfloat ans = 0, num = 0;\n",
    "# \tfor (int dy = -patch_w/2; dy <= patch_w/2; dy++) {\n",
    "# \t\tfor (int dx = -patch_w/2; dx <= patch_w/2; dx++) {\n",
    "# \t\t\tif (\n",
    "# \t\t\t\t(ay + dy) < a_rows && (ay + dy) >= 0 && (ax + dx) < a_cols && (ax + dx) >= 0\n",
    "# \t\t\t\t&&\n",
    "# \t\t\t\t(by + dy) < b_rows && (by + dy) >= 0 && (bx + dx) < b_cols && (bx + dx) >= 0\n",
    "# \t\t\t\t)//the pixel in a should exist and pixel in b should exist\n",
    "# \t\t\t{\n",
    "# \t\t\t\tint dr = a[ay + dy][ax + dx][2] - b[by + dy][bx + dx][2];\n",
    "# \t\t\t\tint dg = a[ay + dy][ax + dx][1] - b[by + dy][bx + dx][1];\n",
    "# \t\t\t\tint db = a[ay + dy][ax + dx][0] - b[by + dy][bx + dx][0];\n",
    "# \t\t\t\tans += dr*dr + dg*dg + db*db;\n",
    "# \t\t\t\tnum += 1;\n",
    "# \t\t\t}\n",
    "\t\t\t\n",
    "# \t\t}\n",
    "\t\t\n",
    "# \t}\n",
    "# \tans = ans / num;\n",
    "# \tif (ans >= cutoff) { return cutoff; }\n",
    "# \telse {\n",
    "# \t\treturn ans;\n",
    "# \t}\n",
    "# }\n",
    "    def cal_dist(self,ay,ax,by,bx):\n",
    "        ans = 0\n",
    "        num = 0\n",
    "        a_rows = self.A.shape[0]\n",
    "        a_cols = self.A.shape[1]\n",
    "        \n",
    "        b_rows = self.A.shape[0]\n",
    "        b_cols = self.A.shape[1]\n",
    "\n",
    "        dy = -self.patch_size//2\n",
    "        while dy<= self.patch_size//2:\n",
    "            \n",
    "            dx = -self.patch_size//2\n",
    "            while dx<= self.patch_size//2:\n",
    "                if (ay + dy) < a_rows and (ay + dy) >= 0 and (ax + dx) < a_cols and (ax + dx) >= 0:\n",
    "                    if (by + dy) < b_rows and (by + dy) >= 0 and (bx + dx) < b_cols and (bx + dx) >= 0:\n",
    "                        \n",
    "#                         ans += np.sum(np.power(self.A[ay+dy][ax+dx] - self.B[by+dy][bx+dx],2))\n",
    "                        \n",
    "                        for channel in range(self.A.shape[2]):\n",
    "                            dd = int(self.A[ay + dy][ax + dx][channel]) - int(self.B[by + dy][bx + dx][channel])\n",
    "                            ans += int(dd*dd)\n",
    "                        num += 1\n",
    "                dx +=1\n",
    "            dy+=1\n",
    "        try:\n",
    "            ans = ans/num\n",
    "        except :\n",
    "            print(ax)\n",
    "            print(ay)\n",
    "            print(bx)\n",
    "            print(by)\n",
    "        return ans\n",
    "\n",
    "    \n",
    "    def reconstruct(self):\n",
    "        ans = np.zeros_like(self.A)\n",
    "        for i in range(self.A.shape[0]):\n",
    "            for j in range(self.A.shape[1]):\n",
    "                pos = self.nnf[i,j]\n",
    "                ans[i,j] = self.B[pos[1], pos[0]]\n",
    "        return ans\n",
    "    \n",
    "    def reconstruct_img_voting(self, patch_size=3,arr_v=None):\n",
    "        if patch_size is None:\n",
    "            patch_size = self.patch_size\n",
    "        b_prime = np.zeros_like(self.A,dtype=np.uint8)\n",
    "\n",
    "        for i in range(self.A.shape[0]): #traverse down a\n",
    "            for j in range(self.A.shape[1]): #traverse across a\n",
    "                \n",
    "                dx0 = dy0 = patch_size//2\n",
    "                dx1 = dy1 = patch_size//2 + 1\n",
    "                dx0 = min(i,dx0)\n",
    "                dx1 = min(self.A.shape[0]-i, dx1)\n",
    "                dy0 = min(j, dy0)\n",
    "                dy1 = min(self.A.shape[1]-j, dy1)\n",
    "                \n",
    "                votes = self.nnf[i-dx0:i+dx1, j-dy0:j+dy1] \n",
    "                b_patch = np.zeros(shape=(votes.shape[0],votes.shape[1],self.A.shape[2]))\n",
    "                \n",
    "                for p_i in range(votes.shape[0]):\n",
    "                    for p_j in range(votes.shape[1]):\n",
    "                     \n",
    "                        b_patch[p_i, p_j] = self.B[votes[p_i,p_j][0] , votes[p_i,p_j][1]]\n",
    "\n",
    "                averaged_patch = np.average(b_patch,axis=(0,1))\n",
    "                b_prime[i, j] = averaged_patch[:]\n",
    "        plt.imshow(b_prime[:,:,::-1])\n",
    "        plt.show()\n",
    "        \n",
    "    def visualize(self):\n",
    "        nnf = self.nnf\n",
    "        nnd = self.nnd\n",
    "        img = np.zeros((nnf.shape[0], nnf.shape[1], 3),dtype=np.uint8)\n",
    "\n",
    "\n",
    "        for i in range(1, nnf.shape[0]):\n",
    "            for j in range(1, nnf.shape[1]):\n",
    "                pos = nnf[i,j]\n",
    "                img[i, j, 0] = int(255 * (pos[0]/self.B.shape[1]))\n",
    "                img[i, j, 1] = int(255 * (pos[1]/self.B.shape[0]))\n",
    "                \n",
    "        return img\n",
    "\n",
    "\n",
    "    \n",
    "    def visualize_nnf(self):\n",
    "        nnf = self.nnf\n",
    "        nnd = self.nnd\n",
    "        def angle_between_alt(p1, p2):\n",
    "            ang1 = np.arctan2(*p1[::-1])\n",
    "            ang2 = np.arctan2(*p2[::-1])\n",
    "            return np.rad2deg((ang1 - ang2) % (2 * np.pi))\n",
    "\n",
    "        def norm_dist(arr):\n",
    "            return (arr)/(arr.max())\n",
    "    \n",
    "        img = np.zeros((nnf.shape[0], nnf.shape[1], 3),dtype=np.uint8)\n",
    "        for i in range(1, nnf.shape[0]):\n",
    "            for j in range(1, nnf.shape[1]):\n",
    "                angle = angle_between_alt([j, i], [nnf[i, j][0], nnf[i, j][1]])\n",
    "                img[i, j, :] = np.array([angle, nnd[i,j], 250])\n",
    "        img = hsv_to_rgb(norm_dist(img/255))\n",
    "        plt.imshow(img)\n",
    "        plt.show()\n",
    "    \n",
    "    def propagate(self,iters=2):\n",
    "        a_cols = self.A.shape[1]\n",
    "        a_rows = self.A.shape[0]\n",
    "\n",
    "        b_cols = self.B.shape[1]\n",
    "        b_rows = self.B.shape[0]\n",
    "\n",
    "        for it in range(iters):\n",
    "            ystart = 0\n",
    "            yend = a_rows\n",
    "            ychange = 1\n",
    "            xstart = 0\n",
    "            xend = a_cols\n",
    "            xchange = 1;\n",
    "            \n",
    "            if it % 2 == 1 :\n",
    "                xstart = xend - 1 \n",
    "                xend = -1\n",
    "                xchange = -1\n",
    "                ystart = yend - 1\n",
    "                yend = -1\n",
    "                ychange = -1;\n",
    "                \n",
    "            ay = ystart\n",
    "            while ay!=yend:\n",
    "            \n",
    "                ax = xstart\n",
    "                while ax!=xend:\n",
    "\n",
    "                    xbest,ybest = self.nnf[ay,ax]\n",
    "                    dbest = self.nnd[ay,ax]\n",
    "                    \n",
    "#                     if ax - xchange <0:\n",
    "#                         print(\"LESS THAN 0\")\n",
    "#                         print(xchange)\n",
    "\n",
    "                    if ax -xchange < a_cols and ax-xchange >=0:\n",
    "                        vp = self.nnf[ay,ax-xchange]\n",
    "                        xp = vp[0] + xchange\n",
    "                        yp = vp[1] \n",
    "                        \n",
    "#                         if ay < 0 or ax < 0 or yp <0 or xp <0:\n",
    "#                             print(\"got here\")\n",
    "#                             print(xp)\n",
    "                            \n",
    "                        if xp < b_cols and xp >=0:\n",
    "                            val = self.cal_dist(ay, ax, yp, xp)\n",
    "                            if val < dbest:\n",
    "                                xbest, ybest, dbest = xp, yp, val\n",
    "                                \n",
    "                    if abs(ay - ychange) < a_rows  and ay - ychange >=0:\n",
    "                        vp = self.nnf[ay-ychange,ax]\n",
    "                        xp = vp[0]\n",
    "                        yp = vp[1]+ychange\n",
    "                        if yp < b_rows and yp >=0:\n",
    "                            val = self.cal_dist(ay, ax, yp, xp)\n",
    "                            if val < dbest:\n",
    "                                xbest, ybest, dbest = xp, yp, val\n",
    "                                \n",
    "                    rand_d = max(self.B.shape[0], self.B.shape[1])\n",
    "                    while rand_d >= 1:\n",
    "                        try:\n",
    "                            xmin = max(xbest - rand_d, 0)\n",
    "                            xmax = min(xbest + rand_d, b_cols)\n",
    "                            \n",
    "                            ymin = max(ybest - rand_d, 0)\n",
    "                            ymax = min(ybest + rand_d, b_rows)\n",
    "                            \n",
    "                            if xmin > xmax:\n",
    "                                rx = -np.random.randint(xmax, xmin)\n",
    "                            if ymin > ymax:\n",
    "                                ry = -np.random.randint(ymax, ymin)\n",
    "                            \n",
    "                            if xmin < xmax and ymin < ymax:\n",
    "                                rx = np.random.randint(xmin, xmax)\n",
    "                                ry = np.random.randint(ymin, ymax)\n",
    "\n",
    "                            val = self.cal_dist(ay, ax ,ry, rx)\n",
    "                            if val < dbest:\n",
    "                                xbest, ybest, dbest = rx, ry, val\n",
    "                                \n",
    "                        except Exception as e:\n",
    "                            print(e)\n",
    "                            print(rand_d)\n",
    "                            print(xmin, xmax)\n",
    "                            print(ymin, ymax)\n",
    "                            print(bestx, besty)\n",
    "                            print(self.B.shape)\n",
    "                            \n",
    "                        rand_d = rand_d // 2\n",
    "                        \n",
    "                    self.nnf[ay, ax] = [xbest, ybest]\n",
    "                    self.nnd[ay, ax] = dbest\n",
    "                  \n",
    "                    ax+=xchange\n",
    "                ay+=ychange\n",
    "            \n",
    "\n",
    "                \n",
    "        print(\"Done\")"
   ]
  },
  {
   "cell_type": "code",
   "execution_count": 130,
   "metadata": {
    "scrolled": true
   },
   "outputs": [
    {
     "name": "stdout",
     "output_type": "stream",
     "text": [
      "(50, 50, 3)\n"
     ]
    },
    {
     "data": {
      "image/png": "[encoded data removed]",
      "text/plain": [
       "<matplotlib.figure.Figure at 0x7fa1ec055a90>"
      ]
     },
     "metadata": {},
     "output_type": "display_data"
    }
   ],
   "source": [
    "x = cv2.imread(\"./ava.jpg\")\n",
    "y = cv2.imread(\"./mona.png\")\n",
    "\n",
    "x = cv2.resize(x,(50,50))\n",
    "y = cv2.resize(y,(50,50))\n",
    "plt.imshow(x)\n",
    "print(x.shape)"
   ]
  },
  {
   "cell_type": "code",
   "execution_count": 131,
   "metadata": {},
   "outputs": [],
   "source": [
    "pm = PatchMatch(y,x, 5)\n",
    "# pm.visualize_nnf()\n",
    "# plt.imshow(pm.visualize())"
   ]
  },
  {
   "cell_type": "code",
   "execution_count": 132,
   "metadata": {},
   "outputs": [
    {
     "name": "stdout",
     "output_type": "stream",
     "text": [
      "Done\n"
     ]
    },
    {
     "data": {
      "image/png": "[encoded data removed]",
      "text/plain": [
       "<matplotlib.figure.Figure at 0x7fa1f6fa3ac8>"
      ]
     },
     "metadata": {},
     "output_type": "display_data"
    }
   ],
   "source": [
    "def do():\n",
    "    pm.propagate(iters=5)\n",
    "    plt.imshow(pm.reconstruct()[:,:,::-1])\n",
    "    plt.show()\n",
    "#     pm.reconstruct_img_voting(patch_size=3)\n",
    "#     pm.propagate()\n",
    "#     pm.reconstruct_img_voting(patch_size=3)\n",
    "#     pm.propagate()\n",
    "#     pm.reconstruct_img_voting(patch_size=3)\n",
    "#     pm.propagate()\n",
    "#     pm.reconstruct_img_voting(patch_size=3)\n",
    "\n",
    "do()"
   ]
  },
  {
   "cell_type": "code",
   "execution_count": 128,
   "metadata": {},
   "outputs": [
    {
     "data": {
      "text/plain": [
       "<matplotlib.image.AxesImage at 0x7fa1ec3b8f28>"
      ]
     },
     "execution_count": 128,
     "metadata": {},
     "output_type": "execute_result"
    },
    {
     "data": {
      "image/png": "[encoded data removed]",
      "text/plain": [
       "<matplotlib.figure.Figure at 0x7fa1ec0becf8>"
      ]
     },
     "metadata": {},
     "output_type": "display_data"
    }
   ],
   "source": [
    "plt.imshow(pm.reconstruct()[:,:,::-1])\n",
    "\n",
    "# pm.visualize_nnf()"
   ]
  },
  {
   "cell_type": "code",
   "execution_count": null,
   "metadata": {
    "scrolled": false
   },
   "outputs": [],
   "source": [
    "plt.imshow(pm.visualize())"
   ]
  },
  {
   "cell_type": "markdown",
   "metadata": {},
   "source": [
    "# do()"
   ]
  },
  {
   "cell_type": "code",
   "execution_count": null,
   "metadata": {},
   "outputs": [],
   "source": [
    "plt.figure(1)\n",
    "plt.subplot(131)\n",
    "plt.axis('off')\n",
    "plt.imshow(x[:,:,::-1])\n",
    "\n",
    "plt.subplot(132)\n",
    "plt.axis('off')\n",
    "plt.imshow(y[:,:,::-1])\n",
    "\n",
    "plt.subplot(133)\n",
    "plt.axis('off')\n",
    "plt.imshow(pm.reconstruct()[:,:,::-1])\n",
    "\n",
    "plt.show()"
   ]
  },
  {
   "cell_type": "code",
   "execution_count": null,
   "metadata": {},
   "outputs": [],
   "source": [
    "import os\n",
    "import sys\n",
    "\n",
    "# add the 'src' directory as one where we can import modules\n",
    "src_dir = os.path.join(os.getcwd(), os.pardir)\n",
    "sys.path.append(src_dir)"
   ]
  },
  {
   "cell_type": "code",
   "execution_count": null,
   "metadata": {},
   "outputs": [],
   "source": [
    "os.path.join(os.getcwd(), os.pardir)"
   ]
  },
  {
   "cell_type": "code",
   "execution_count": null,
   "metadata": {},
   "outputs": [],
   "source": [
    "from src.PatchMatch import PatchMatchSimple"
   ]
  },
  {
   "cell_type": "code",
   "execution_count": null,
   "metadata": {
    "scrolled": false
   },
   "outputs": [],
   "source": [
    "pm = PatchMatchSimple(x,y,patch_size=3)\n",
    "for i in range(15):\n",
    "    pm.propagate()\n",
    "    pm.reconstruct_img_voting(patch_size=3)"
   ]
  },
  {
   "cell_type": "code",
   "execution_count": null,
   "metadata": {},
   "outputs": [],
   "source": [
    "pm.visualize_nnf()"
   ]
  },
  {
   "cell_type": "code",
   "execution_count": null,
   "metadata": {},
   "outputs": [],
   "source": [
    "0/0"
   ]
  },
  {
   "cell_type": "code",
   "execution_count": null,
   "metadata": {},
   "outputs": [],
   "source": []
  }
 ],
 "metadata": {
  "hide_input": false,
  "kernelspec": {
   "display_name": "Python 3",
   "language": "python",
   "name": "python3"
  },
  "language_info": {
   "codemirror_mode": {
    "name": "ipython",
    "version": 3
   },
   "file_extension": ".py",
   "mimetype": "text/x-python",
   "name": "python",
   "nbconvert_exporter": "python",
   "pygments_lexer": "ipython3",
   "version": "3.6.3"
  }
 },
 "nbformat": 4,
 "nbformat_minor": 2
}
